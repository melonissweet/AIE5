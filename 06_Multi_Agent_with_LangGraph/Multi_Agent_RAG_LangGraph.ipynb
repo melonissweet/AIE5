{
  "cells": [
    {
      "cell_type": "markdown",
      "metadata": {
        "id": "KxpWDFG11o3G"
      },
      "source": [
        "# Multi-Agent Workflows + RAG - LangGraph\n",
        "\n",
        "Today we'll be looking at an example of a Multi-Agent workflow that's powered by LangGraph, LCEL, and more!\n",
        "\n",
        "We're going to be, more specifically, looking at a \"heirarchical agent teams\" from the [AutoGen: Enabling Next-Gen LLM\n",
        "Applications via Multi-Agent Conversation](https://arxiv.org/pdf/2308.08155) paper.\n",
        "\n",
        "This will be the final \"graph\" of our system:\n",
        "\n",
        "![image](https://i.imgur.com/Bhc7RVE.png)\n",
        "\n",
        "It's important to keep in mind that the actual implementation will be constructed of 3 separate graphs, the final one having 2 graphs as nodes! LangGraph is a heckuva tool!\n",
        "\n"
      ]
    },
    {
      "cell_type": "markdown",
      "metadata": {
        "id": "TyzoBrWoYeOZ"
      },
      "source": [
        "# 🤝 BREAKOUT ROOM #1"
      ]
    },
    {
      "cell_type": "markdown",
      "metadata": {
        "id": "mx3oaVoX5cA2"
      },
      "source": [
        "## Dependencies\n",
        "\n",
        "We'll start, as we normally do, by grabbing our dependencies.\n",
        "\n",
        "We'll be using LangChain and LangGraph to power our application, so let's start by grabbing those!"
      ]
    },
    {
      "cell_type": "code",
      "execution_count": 2,
      "metadata": {
        "colab": {
          "base_uri": "https://localhost:8080/"
        },
        "id": "cs6HUTgecbzW",
        "outputId": "c2f4d9e5-56ea-4173-f3ff-9ab3cc28a7ca"
      },
      "outputs": [],
      "source": [
        "!pip install -qU langgraph==0.2.14 langchain==0.2.14 langchain_openai==0.1.23 langchain_core==0.2.35 langchain-community"
      ]
    },
    {
      "cell_type": "markdown",
      "metadata": {
        "id": "BMzWFUc25oqT"
      },
      "source": [
        "We're going to be showing a simple RAG chain as part of our LangGraph - and so we'll need specific dependencies for that as well!"
      ]
    },
    {
      "cell_type": "code",
      "execution_count": 3,
      "metadata": {
        "id": "qEUBCOdukjwc"
      },
      "outputs": [],
      "source": [
        "!pip install -qU --disable-pip-version-check qdrant-client pymupdf tiktoken"
      ]
    },
    {
      "cell_type": "markdown",
      "metadata": {
        "id": "Zpv2MWqu5vS9"
      },
      "source": [
        "Since we'll be relying on OpenAI's suite of models to power our agents today, we'll want to provide our OpenAI API Key.\n",
        "\n",
        "We're also going to be using the Tavily search tool - so we'll want to provide that API key as well!\n",
        "\n",
        "Instruction for how to obtain the Tavily API key can be found:\n",
        "\n",
        "1. [Tavily API Key](https://app.tavily.com/sign-in)\n",
        "\n"
      ]
    },
    {
      "cell_type": "code",
      "execution_count": 4,
      "metadata": {
        "colab": {
          "base_uri": "https://localhost:8080/"
        },
        "id": "h30OjkLfeR2Y",
        "outputId": "f75bb26e-b89d-4611-c29b-f339b3e868af"
      },
      "outputs": [],
      "source": [
        "import os\n",
        "import getpass\n",
        "\n",
        "os.environ[\"OPENAI_API_KEY\"] = getpass.getpass(\"OpenAI API Key:\")\n",
        "os.environ[\"TAVILY_API_KEY\"] = getpass.getpass(\"TAVILY_API_KEY\")"
      ]
    },
    {
      "cell_type": "markdown",
      "metadata": {
        "id": "M_LD7rwT6PbO"
      },
      "source": [
        "## Task 1: Simple LCEL RAG\n",
        "\n",
        "Now that we have our dependencies set-up - let's create a simple RAG chain that works over a single PDF.\n",
        "\n",
        "> NOTE: While this particular example is very straight forward - you can \"plug in\" any complexity of chain you desire as a node in a LangGraph."
      ]
    },
    {
      "cell_type": "markdown",
      "metadata": {
        "id": "JY7T5kxJ6jGn"
      },
      "source": [
        "## Retrieval\n",
        "\n",
        "The 'R' in 'RAG' - this is, at this point, fairly straightforward!"
      ]
    },
    {
      "cell_type": "markdown",
      "metadata": {
        "id": "DGuPxSCk7Ztz"
      },
      "source": [
        "#### Data Collection and Processing\n",
        "\n",
        "A classic first step, at this point, let's grab our desired document!"
      ]
    },
    {
      "cell_type": "code",
      "execution_count": 5,
      "metadata": {
        "id": "LfuoEYRCln3H"
      },
      "outputs": [],
      "source": [
        "from langchain.document_loaders import PyMuPDFLoader\n",
        "\n",
        "docs = PyMuPDFLoader(\"https://arxiv.org/pdf/2404.19553\").load()"
      ]
    },
    {
      "cell_type": "markdown",
      "metadata": {
        "id": "r_t_F1zG6vXa"
      },
      "source": [
        "Now we can chunk it down to size!"
      ]
    },
    {
      "cell_type": "code",
      "execution_count": 6,
      "metadata": {
        "id": "5R7A_z8CgL79"
      },
      "outputs": [],
      "source": [
        "import tiktoken\n",
        "from langchain.text_splitter import RecursiveCharacterTextSplitter\n",
        "\n",
        "def tiktoken_len(text):\n",
        "    tokens = tiktoken.encoding_for_model(\"gpt-4o-mini\").encode(\n",
        "        text,\n",
        "    )\n",
        "    return len(tokens)\n",
        "\n",
        "text_splitter = RecursiveCharacterTextSplitter(\n",
        "    chunk_size = 300,\n",
        "    chunk_overlap = 0,\n",
        "    length_function = tiktoken_len,\n",
        ")\n",
        "\n",
        "split_chunks = text_splitter.split_documents(docs)"
      ]
    },
    {
      "cell_type": "markdown",
      "metadata": {
        "id": "lGE-VuMc7AKv"
      },
      "source": [
        "Now we've successfully split our single PDF into..."
      ]
    },
    {
      "cell_type": "code",
      "execution_count": 7,
      "metadata": {
        "colab": {
          "base_uri": "https://localhost:8080/"
        },
        "id": "pgYBHsdWmLvW",
        "outputId": "aa9a830e-f7db-4bb3-f542-c0614cb01aca"
      },
      "outputs": [
        {
          "data": {
            "text/plain": [
              "15"
            ]
          },
          "execution_count": 7,
          "metadata": {},
          "output_type": "execute_result"
        }
      ],
      "source": [
        "len(split_chunks)"
      ]
    },
    {
      "cell_type": "markdown",
      "metadata": {
        "id": "lxaKmmyh7DHD"
      },
      "source": [
        "documents!"
      ]
    },
    {
      "cell_type": "markdown",
      "metadata": {
        "id": "cGWs7KTd7QPS"
      },
      "source": [
        "#### Embedding Model and Vector Store\n",
        "\n",
        "Now that we have our chunked document - lets create a vector store, which will first require us to create an embedding model to get the vector representations of our text!\n",
        "\n",
        "We'll use OpenAI's [`text-embedding-3-small`](https://platform.openai.com/docs/guides/embeddings/embedding-models) model - as it's cheap, and performant."
      ]
    },
    {
      "cell_type": "code",
      "execution_count": 8,
      "metadata": {
        "id": "xLIWMMZCmfrj"
      },
      "outputs": [],
      "source": [
        "from langchain_openai.embeddings import OpenAIEmbeddings\n",
        "\n",
        "embedding_model = OpenAIEmbeddings(model=\"text-embedding-3-small\")"
      ]
    },
    {
      "cell_type": "markdown",
      "metadata": {
        "id": "lTEi7Ww573sc"
      },
      "source": [
        "Now we can create our QDrant backed vector store!"
      ]
    },
    {
      "cell_type": "code",
      "execution_count": 9,
      "metadata": {
        "id": "Xct51f8omVAU"
      },
      "outputs": [],
      "source": [
        "from langchain_community.vectorstores import Qdrant\n",
        "\n",
        "qdrant_vectorstore = Qdrant.from_documents(\n",
        "    split_chunks,\n",
        "    embedding_model,\n",
        "    location=\":memory:\",\n",
        "    collection_name=\"extending_context_window_llama_3\",\n",
        ")"
      ]
    },
    {
      "cell_type": "markdown",
      "metadata": {
        "id": "wzGq6o4s79Ar"
      },
      "source": [
        "Let's make sure we can access it as a retriever."
      ]
    },
    {
      "cell_type": "code",
      "execution_count": 10,
      "metadata": {
        "id": "OTnQZbWymi4K"
      },
      "outputs": [],
      "source": [
        "qdrant_retriever = qdrant_vectorstore.as_retriever()"
      ]
    },
    {
      "cell_type": "markdown",
      "metadata": {
        "id": "aU8qSrMS7_D7"
      },
      "source": [
        "### Augmented\n",
        "\n",
        "Now that we have our retrieval process set-up, we need to set up our \"augmentation\" process - AKA a prompt template."
      ]
    },
    {
      "cell_type": "code",
      "execution_count": 11,
      "metadata": {
        "id": "lezTN0zCmk46"
      },
      "outputs": [],
      "source": [
        "from langchain_core.prompts import ChatPromptTemplate\n",
        "\n",
        "RAG_PROMPT = \"\"\"\n",
        "CONTEXT:\n",
        "{context}\n",
        "\n",
        "QUERY:\n",
        "{question}\n",
        "\n",
        "You are a helpful assistant. Use the available context to answer the question. If you can't answer the question, say you don't know.\n",
        "\"\"\"\n",
        "\n",
        "rag_prompt = ChatPromptTemplate.from_template(RAG_PROMPT)"
      ]
    },
    {
      "cell_type": "markdown",
      "metadata": {
        "id": "Y9fa63nM7IKK"
      },
      "source": [
        "### Generation\n",
        "\n",
        "Last, but certainly not least, let's put the 'G' in 'RAG' by adding our generator - in this case, we can rely on OpenAI's [`gpt-4o-mini`](https://platform.openai.com/docs/models/gpt-4o-mini) model!"
      ]
    },
    {
      "cell_type": "code",
      "execution_count": 12,
      "metadata": {
        "id": "AwEi29-Jo3a8"
      },
      "outputs": [],
      "source": [
        "from langchain_openai import ChatOpenAI\n",
        "\n",
        "openai_chat_model = ChatOpenAI(model=\"gpt-4o-mini\")"
      ]
    },
    {
      "cell_type": "markdown",
      "metadata": {
        "id": "qO-ZC0T98XJJ"
      },
      "source": [
        "### RAG - Retrieval Augmented Generation\n",
        "\n",
        "All that's left to do is combine our R, A, and G into a single chain - and we're off!"
      ]
    },
    {
      "cell_type": "code",
      "execution_count": 13,
      "metadata": {
        "id": "nlOJrPm_oT3S"
      },
      "outputs": [],
      "source": [
        "from operator import itemgetter\n",
        "from langchain.schema.output_parser import StrOutputParser\n",
        "\n",
        "rag_chain = (\n",
        "    {\"context\": itemgetter(\"question\") | qdrant_retriever, \"question\": itemgetter(\"question\")}\n",
        "    | rag_prompt | openai_chat_model | StrOutputParser()\n",
        ")"
      ]
    },
    {
      "cell_type": "markdown",
      "metadata": {
        "id": "qiWrbXpu8ggz"
      },
      "source": [
        "Let's test this out and make sure it works."
      ]
    },
    {
      "cell_type": "code",
      "execution_count": null,
      "metadata": {
        "colab": {
          "base_uri": "https://localhost:8080/",
          "height": 122
        },
        "id": "gJhFlW32pBPe",
        "outputId": "7aee04b6-608f-4639-adca-66225d4d3002"
      },
      "outputs": [
        {
          "data": {
            "application/vnd.google.colaboratory.intrinsic+json": {
              "type": "string"
            },
            "text/plain": [
              "\"In the context of 'long context' as mentioned in the document, 'context' refers to the amount of text or information that the large language model (LLM) can process at one time. Specifically, it relates to the length of the textual data that the model can utilize to generate responses or perform tasks such as question answering and summarization. The document discusses extending the context length of the Llama-3 model from 8K tokens to 80K tokens, indicating that 'long context' involves significantly larger segments of text than what was previously feasible.\""
            ]
          },
          "execution_count": 26,
          "metadata": {},
          "output_type": "execute_result"
        }
      ],
      "source": [
        "rag_chain.invoke({\"question\" : \"What does the 'context' in 'long context' refer to?\"})"
      ]
    },
    {
      "cell_type": "markdown",
      "metadata": {
        "id": "gReMizYk8qd-"
      },
      "source": [
        "### RAG Limitation\n",
        "\n",
        "Notice how we're hard-coding our data, while this is simply meant to be an illustrative example - you could easily extend this to work with any provied paper or document in order to have a more dynamic system.\n",
        "\n",
        "For now, we'll stick with this single hard-coded example in order to keep complexity down in an already very long notebook!"
      ]
    },
    {
      "cell_type": "markdown",
      "metadata": {
        "id": "oxkbuir-H5rE"
      },
      "source": [
        "##### 🏗️ Activity #1 (Bonus Marks)\n",
        "\n",
        "Allow the system to dynamically fetch Arxiv papers instead of hard coding them.\n",
        "\n",
        "> HINT: Tuesday's assignment will be very useful here."
      ]
    },
    {
      "cell_type": "code",
      "execution_count": 14,
      "metadata": {},
      "outputs": [],
      "source": [
        "from langchain_community.retrievers import ArxivRetriever\n",
        "\n",
        "retriever = ArxivRetriever(\n",
        "    load_max_docs=2,\n",
        "    get_ful_documents=True,\n",
        ")"
      ]
    },
    {
      "cell_type": "code",
      "execution_count": 15,
      "metadata": {},
      "outputs": [
        {
          "data": {
            "text/plain": [
              "'The ImageBind model is an approach designed to learn a joint embedding across six different modalities: images, text, audio, depth, thermal, and IMU data. It demonstrates that only image-paired data is sufficient to bind these modalities together, allowing the model to leverage large scale vision-language models and extend their zero-shot capabilities to new modalities. ImageBind enables various applications such as cross-modal retrieval, arithmetic with modalities, cross-modal detection, and generation. It achieves state-of-the-art performance on emergent zero-shot recognition tasks across modalities and shows strong few-shot recognition results, serving as a new way to evaluate vision models for both visual and non-visual tasks.'"
            ]
          },
          "execution_count": 15,
          "metadata": {},
          "output_type": "execute_result"
        }
      ],
      "source": [
        "\n",
        "from langchain_core.output_parsers import StrOutputParser\n",
        "from langchain_core.prompts import ChatPromptTemplate\n",
        "from langchain_core.runnables import RunnablePassthrough\n",
        "from langchain_openai import ChatOpenAI\n",
        "\n",
        "prompt = ChatPromptTemplate.from_template(\"\"\"\n",
        "Context: {context}\n",
        "\n",
        "Question: {question}\n",
        "                                          \n",
        "You are a helpful assistant. Use the provided context to answer the question. If you can't answer the question based only on the context provided, say you don't know.\"\"\"\n",
        ")\n",
        "\n",
        "llm = ChatOpenAI(model=\"gpt-4o-mini\")\n",
        "\n",
        "def format_docs(docs):\n",
        "    return \"\\n\\n\".join(doc.page_content for doc in docs)\n",
        "\n",
        "chain = (\n",
        "    {\"context\": retriever | format_docs, \"question\": RunnablePassthrough()}\n",
        "    | prompt\n",
        "    | llm\n",
        "    | StrOutputParser()\n",
        ")\n",
        "\n",
        "chain.invoke(\"What is the ImageBind model?\")"
      ]
    },
    {
      "cell_type": "markdown",
      "metadata": {
        "id": "7U6a_pqQ9uWf"
      },
      "source": [
        "## Task 2: Helper Functions for Agent Graphs\n",
        "\n",
        "We'll be using a number of agents, nodes, and supervisors in the rest of the notebook - and so it will help to have a collection of useful helper functions that we can leverage to make our lives easier going forward.\n",
        "\n",
        "Let's start with the most simple one!"
      ]
    },
    {
      "cell_type": "markdown",
      "metadata": {
        "id": "IDUnpEEl-L_F"
      },
      "source": [
        "#### Import Wall\n",
        "\n",
        "Here's a wall of imports we'll be needing going forward!"
      ]
    },
    {
      "cell_type": "code",
      "execution_count": 16,
      "metadata": {
        "id": "TbzoL3Q3-SG1"
      },
      "outputs": [],
      "source": [
        "from typing import Any, Callable, List, Optional, TypedDict, Union\n",
        "\n",
        "from langchain.agents import AgentExecutor, create_openai_functions_agent\n",
        "from langchain.output_parsers.openai_functions import JsonOutputFunctionsParser\n",
        "from langchain_core.prompts import ChatPromptTemplate, MessagesPlaceholder\n",
        "from langchain_core.messages import AIMessage, BaseMessage, HumanMessage\n",
        "from langchain_core.runnables import Runnable\n",
        "from langchain_core.tools import BaseTool\n",
        "from langchain_openai import ChatOpenAI\n",
        "\n",
        "from langgraph.graph import END, StateGraph"
      ]
    },
    {
      "cell_type": "markdown",
      "metadata": {
        "id": "qb6Z3EEz-Asi"
      },
      "source": [
        "### Agent Node Helper\n",
        "\n",
        "Since we're going to be wrapping each of our agents into a node - it will help to have an easy way to create the node!"
      ]
    },
    {
      "cell_type": "code",
      "execution_count": 17,
      "metadata": {
        "id": "5IF7KWfS-JKd"
      },
      "outputs": [],
      "source": [
        "def agent_node(state, agent, name):\n",
        "    result = agent.invoke(state)\n",
        "    return {\"messages\": [HumanMessage(content=result[\"output\"], name=name)]}"
      ]
    },
    {
      "cell_type": "markdown",
      "metadata": {
        "id": "fwND2teK-WHm"
      },
      "source": [
        "### Agent Creation Helper Function\n",
        "\n",
        "Since we know we'll need to create agents to populate our agent nodes, let's use a helper function for that as well!\n",
        "\n",
        "Notice a few things:\n",
        "\n",
        "1. We have a standard suffix to append to our system messages for each agent to handle the tool calling and boilerplate prompting.\n",
        "2. Each agent has its our scratchpad.\n",
        "3. We're relying on OpenAI's function-calling API for tool selection\n",
        "4. Each agent is its own executor."
      ]
    },
    {
      "cell_type": "code",
      "execution_count": 18,
      "metadata": {
        "id": "NxLyHJt5-eUx"
      },
      "outputs": [],
      "source": [
        "def create_agent(\n",
        "    llm: ChatOpenAI,\n",
        "    tools: list,\n",
        "    system_prompt: str,\n",
        ") -> str:\n",
        "    \"\"\"Create a function-calling agent and add it to the graph.\"\"\"\n",
        "    system_prompt += (\"\\nWork autonomously according to your specialty, using the tools available to you.\"\n",
        "    \" Do not ask for clarification.\"\n",
        "    \" Your other team members (and other teams) will collaborate with you with their own specialties.\"\n",
        "    \" You are chosen for a reason! You are one of the following team members: {team_members}.\")\n",
        "    prompt = ChatPromptTemplate.from_messages(\n",
        "        [\n",
        "            (\n",
        "                \"system\",\n",
        "                system_prompt,\n",
        "            ),\n",
        "            MessagesPlaceholder(variable_name=\"messages\"),\n",
        "            MessagesPlaceholder(variable_name=\"agent_scratchpad\"),\n",
        "        ]\n",
        "    )\n",
        "    agent = create_openai_functions_agent(llm, tools, prompt)\n",
        "    executor = AgentExecutor(agent=agent, tools=tools)\n",
        "    return executor"
      ]
    },
    {
      "cell_type": "markdown",
      "metadata": {
        "id": "S6kmlR9d-1K5"
      },
      "source": [
        "### Supervisor Helper Function\n",
        "\n",
        "Finally, we need a \"supervisor\" that decides and routes tasks to specific agents.\n",
        "\n",
        "Since each \"team\" will have a collection of potential agents - this \"supervisor\" will act as an \"intelligent\" router to make sure that the right agent is selected for the right task.\n",
        "\n",
        "Notice that, at the end of the day, this \"supervisor\" is simply directing who acts next - or if the state is considered \"done\"."
      ]
    },
    {
      "cell_type": "code",
      "execution_count": 19,
      "metadata": {
        "id": "S2MXA83mrYE2"
      },
      "outputs": [],
      "source": [
        "def create_team_supervisor(llm: ChatOpenAI, system_prompt, members) -> str:\n",
        "    \"\"\"An LLM-based router.\"\"\"\n",
        "    options = [\"FINISH\"] + members\n",
        "    function_def = {\n",
        "        \"name\": \"route\",\n",
        "        \"description\": \"Select the next role.\",\n",
        "        \"parameters\": {\n",
        "            \"title\": \"routeSchema\",\n",
        "            \"type\": \"object\",\n",
        "            \"properties\": {\n",
        "                \"next\": {\n",
        "                    \"title\": \"Next\",\n",
        "                    \"anyOf\": [\n",
        "                        {\"enum\": options},\n",
        "                    ],\n",
        "                },\n",
        "            },\n",
        "            \"required\": [\"next\"],\n",
        "        },\n",
        "    }\n",
        "    prompt = ChatPromptTemplate.from_messages(\n",
        "        [\n",
        "            (\"system\", system_prompt),\n",
        "            MessagesPlaceholder(variable_name=\"messages\"),\n",
        "            (\n",
        "                \"system\",\n",
        "                \"Given the conversation above, who should act next?\"\n",
        "                \" Or should we FINISH? Select one of: {options}\",\n",
        "            ),\n",
        "        ]\n",
        "    ).partial(options=str(options), team_members=\", \".join(members))\n",
        "    return (\n",
        "        prompt\n",
        "        | llm.bind_functions(functions=[function_def], function_call=\"route\")\n",
        "        | JsonOutputFunctionsParser()\n",
        "    )"
      ]
    },
    {
      "cell_type": "markdown",
      "metadata": {
        "id": "jd0zfyq48jKb"
      },
      "source": [
        "## Task 3: Research Team - A LangGraph for Researching A Specific Topic\n",
        "\n",
        "Now that we have our RAG chain set-up and some awesome helper functions, we want to create a LangGraph related to researching a specific topic.\n",
        "\n",
        "We're going to start by equipping our Research Team with a few tools:\n",
        "\n",
        "1. Tavily Search - aka \"Google\", for the most up to date information possible.\n",
        "2. Our RAG chain - specific and high quality information about our topic.\n",
        "\n",
        "Let's create those tools now!"
      ]
    },
    {
      "cell_type": "markdown",
      "metadata": {
        "id": "VNsVTZrH_alw"
      },
      "source": [
        "### Tool Creation\n",
        "\n",
        "As you can see below, some tools already come pre-packaged ready to use!"
      ]
    },
    {
      "cell_type": "code",
      "execution_count": 20,
      "metadata": {
        "id": "ce7FKTZDgAWG"
      },
      "outputs": [],
      "source": [
        "from langchain_community.tools.tavily_search import TavilySearchResults\n",
        "\n",
        "tavily_tool = TavilySearchResults(max_results=5)"
      ]
    },
    {
      "cell_type": "markdown",
      "metadata": {
        "id": "NIR7cbTL9agM"
      },
      "source": [
        "Creating a custom tool, however, is very straightforward.\n",
        "\n",
        "> NOTE: You *must* include a docstring, as that is what the LLM will consider when deciding when to use this tool."
      ]
    },
    {
      "cell_type": "code",
      "execution_count": 21,
      "metadata": {
        "id": "sSwO2L_UqFhm"
      },
      "outputs": [],
      "source": [
        "from typing import Annotated, List, Tuple, Union\n",
        "from langchain_core.tools import tool\n",
        "\n",
        "@tool\n",
        "def retrieve_information(\n",
        "    query: Annotated[str, \"query to ask the retrieve information tool\"]\n",
        "    ):\n",
        "  \"\"\"Use Retrieval Augmented Generation to retrieve information about the 'Extending Llama-3’s Context Ten-Fold Overnight' paper.\"\"\"\n",
        "  return rag_chain.invoke({\"question\" : query})"
      ]
    },
    {
      "cell_type": "markdown",
      "metadata": {
        "id": "nxsMnqjpBTCj"
      },
      "source": [
        "> NOTE: We could just as easily use the LCEL chain directly, since nodes can be LCEL objects - but creating a tool helps explain the tool creation process at the same time."
      ]
    },
    {
      "cell_type": "markdown",
      "metadata": {
        "id": "oDHCajO4_gB2"
      },
      "source": [
        "### Research Team State\n",
        "\n",
        "Since we're using LangGraph - we're going to need state!\n",
        "\n",
        "Let's look at how we've created our state below."
      ]
    },
    {
      "cell_type": "code",
      "execution_count": 22,
      "metadata": {
        "id": "mXminK9d_1fa"
      },
      "outputs": [],
      "source": [
        "import functools\n",
        "import operator\n",
        "\n",
        "from langchain_core.messages import AIMessage, BaseMessage, HumanMessage\n",
        "from langchain_openai.chat_models import ChatOpenAI\n",
        "import functools\n",
        "\n",
        "class ResearchTeamState(TypedDict):\n",
        "    messages: Annotated[List[BaseMessage], operator.add]\n",
        "    team_members: List[str]\n",
        "    next: str"
      ]
    },
    {
      "cell_type": "markdown",
      "metadata": {
        "id": "fvPM5msq_18C"
      },
      "source": [
        "Notice how we've used `messages`, `team_members`, and `next`.\n",
        "\n",
        "These states will help us understand:\n",
        "\n",
        "1. What we've done so far (`messages`)\n",
        "2. Which team members we have access to (`team_members`)\n",
        "3. Which team member is up next! (`next`)"
      ]
    },
    {
      "cell_type": "markdown",
      "metadata": {
        "id": "Mu7B_6qHAFjK"
      },
      "source": [
        "### Research Team LLM\n",
        "\n",
        "We'll be using `gpt-4-turbo` today. This LLM is going to be doing a lot of reasoning - and so using a \"powerful\" LLM is very important here!"
      ]
    },
    {
      "cell_type": "code",
      "execution_count": 23,
      "metadata": {
        "id": "dTNqrip8AcKR"
      },
      "outputs": [],
      "source": [
        "llm = ChatOpenAI(model=\"gpt-4-turbo\")"
      ]
    },
    {
      "cell_type": "markdown",
      "metadata": {
        "id": "pfb_VCNKIy9w"
      },
      "source": [
        "##### ❓ Question #1:\n",
        "\n",
        "Why is a \"powerful\" LLM important for this use-case?\n",
        "\n",
        "What tasks must our Agent perform that make it such that the LLM's reasoning capability is a potential limiter?"
      ]
    },
    {
      "cell_type": "markdown",
      "metadata": {
        "id": "9wdlPqF3pwfz"
      },
      "source": [
        "✅ **Answer #1:**\n",
        "\n",
        "Why is a \"powerful\" LLM important for this use-case?\n",
        "\n",
        "\"Powerful\" LLM is important for this use-case becasue we need LLM to decide and route tasks. It needs to think and make decision based on given user input when to route tasks to specific agents to use specific from available tools. The \"smarter\", \"more capable\" and \"powerful\" LLM is important as we want to make sure that the LLM makes the right decision and that right agent is chosen for the right task.\n",
        "\n",
        "What tasks must our Agent perform that make it such that the LLM's reasoning capability is a potential limiter?\n",
        "\n",
        "The decision making by the Supervisor Agent LLM of which agent to assign the task to. The decision making by the Agent LLMs of which tools to use. The decisions the Agents need to make may be limited by the LLM's reasoning capabilities."
      ]
    },
    {
      "cell_type": "markdown",
      "metadata": {
        "id": "ZR_1LuMKAekf"
      },
      "source": [
        "### Research Team Agents & Nodes\n",
        "\n",
        "Now we can use our helper functions to create our agent nodes, with their related tools.\n",
        "\n",
        "Let's start with our search agent node."
      ]
    },
    {
      "cell_type": "markdown",
      "metadata": {
        "id": "uzx6wuPoAlPq"
      },
      "source": [
        "#### Research Team: Search Agent\n",
        "\n",
        "We're going to give our agent access to the Tavily tool, power it with our GPT-4 Turbo model, and then create its node - and name it `Search`."
      ]
    },
    {
      "cell_type": "code",
      "execution_count": 24,
      "metadata": {
        "id": "FIlLPxj7Atpj"
      },
      "outputs": [],
      "source": [
        "search_agent = create_agent(\n",
        "    llm,\n",
        "    [tavily_tool],\n",
        "    \"You are a research assistant who can search for up-to-date info using the tavily search engine.\",\n",
        ")\n",
        "search_node = functools.partial(agent_node, agent=search_agent, name=\"Search\")"
      ]
    },
    {
      "cell_type": "markdown",
      "metadata": {
        "id": "emLtesudA9Dd"
      },
      "source": [
        "#### Research Team: RAG Agent Node\n",
        "\n",
        "Now we can wrap our LCEL RAG pipeline in an agent node as well, using the LCEL RAG pipeline as the tool, as created above."
      ]
    },
    {
      "cell_type": "code",
      "execution_count": 25,
      "metadata": {
        "id": "z-nnAG9XA_p7"
      },
      "outputs": [],
      "source": [
        "research_agent = create_agent(\n",
        "    llm,\n",
        "    [retrieve_information],\n",
        "    \"You are a research assistant who can provide specific information on the provided paper: 'Extending Llama-3’s Context Ten-Fold Overnight'. You must only respond with information about the paper related to the request.\",\n",
        ")\n",
        "research_node = functools.partial(agent_node, agent=research_agent, name=\"PaperInformationRetriever\")"
      ]
    },
    {
      "cell_type": "markdown",
      "metadata": {
        "id": "dA5z6T1CBeSc"
      },
      "source": [
        "### Research Team Supervisor Agent\n",
        "\n",
        "Notice that we're not yet creating our supervisor *node*, simply the agent here.\n",
        "\n",
        "Also notice how we need to provide a few extra pieces of information - including which tools we're using.\n",
        "\n",
        "> NOTE: It's important to use the *exact* tool name, as that is how the LLM will reference the tool. Also, it's important that your tool name is all a single alphanumeric string!\n",
        "\n"
      ]
    },
    {
      "cell_type": "code",
      "execution_count": 26,
      "metadata": {
        "id": "J0g8CQMBrtFs"
      },
      "outputs": [],
      "source": [
        "supervisor_agent = create_team_supervisor(\n",
        "    llm,\n",
        "    (\"You are a supervisor tasked with managing a conversation between the\"\n",
        "    \" following workers:  Search, PaperInformationRetriever. Given the following user request,\"\n",
        "    \" determine the subject to be researched and respond with the worker to act next. Each worker will perform a\"\n",
        "    \" task and respond with their results and status. \"\n",
        "    \" You should never ask your team to do anything beyond research. They are not required to write content or posts.\"\n",
        "    \" You should only pass tasks to workers that are specifically research focused.\"\n",
        "    \" When finished, respond with FINISH.\"),\n",
        "    [\"Search\", \"PaperInformationRetriever\"],\n",
        ")"
      ]
    },
    {
      "cell_type": "markdown",
      "metadata": {
        "id": "qohn0DcgB_U1"
      },
      "source": [
        "### Research Team Graph Creation\n",
        "\n",
        "Now that we have our research team agent nodes created, and our supervisor agent - let's finally construct our graph!\n",
        "\n",
        "We'll start by creating our base graph from our state, and then adding the nodes/agent we've created as nodes on our LangGraph."
      ]
    },
    {
      "cell_type": "code",
      "execution_count": 27,
      "metadata": {
        "id": "p0s2GAgJCN8G"
      },
      "outputs": [],
      "source": [
        "research_graph = StateGraph(ResearchTeamState)\n",
        "\n",
        "research_graph.add_node(\"Search\", search_node)\n",
        "research_graph.add_node(\"PaperInformationRetriever\", research_node)\n",
        "research_graph.add_node(\"supervisor\", supervisor_agent)"
      ]
    },
    {
      "cell_type": "markdown",
      "metadata": {
        "id": "33qixRGNCaAX"
      },
      "source": [
        "Now we can define our edges - include our conditional edge from our supervisor to our agent nodes.\n",
        "\n",
        "Notice how we're always routing our agent nodes back to our supervisor!"
      ]
    },
    {
      "cell_type": "code",
      "execution_count": 28,
      "metadata": {
        "id": "yYSJIhijsGyg"
      },
      "outputs": [],
      "source": [
        "research_graph.add_edge(\"Search\", \"supervisor\")\n",
        "research_graph.add_edge(\"PaperInformationRetriever\", \"supervisor\")\n",
        "research_graph.add_conditional_edges(\n",
        "    \"supervisor\",\n",
        "    lambda x: x[\"next\"],\n",
        "    {\"Search\": \"Search\", \"PaperInformationRetriever\": \"PaperInformationRetriever\", \"FINISH\": END},\n",
        ")"
      ]
    },
    {
      "cell_type": "markdown",
      "metadata": {
        "id": "hgGcuZzkCj1-"
      },
      "source": [
        "Now we can set our supervisor node as the entry point, and compile our graph!"
      ]
    },
    {
      "cell_type": "code",
      "execution_count": 29,
      "metadata": {
        "id": "1l-1I2Z3CnPX"
      },
      "outputs": [],
      "source": [
        "research_graph.set_entry_point(\"supervisor\")\n",
        "chain = research_graph.compile()"
      ]
    },
    {
      "cell_type": "markdown",
      "metadata": {
        "id": "GDwQpYTSEY13"
      },
      "source": [
        "#### Display Graph"
      ]
    },
    {
      "cell_type": "code",
      "execution_count": null,
      "metadata": {
        "colab": {
          "base_uri": "https://localhost:8080/",
          "height": 488
        },
        "id": "l8n6SXhpEa2b",
        "outputId": "6dac5e4e-daed-4d7a-d629-cd83119e7e2c"
      },
      "outputs": [
        {
          "data": {
            "image/jpeg": "[encoded data removed]",
            "text/plain": [
              "<IPython.core.display.Image object>"
            ]
          },
          "metadata": {},
          "output_type": "display_data"
        }
      ],
      "source": [
        "from IPython.display import Image, display\n",
        "\n",
        "try:\n",
        "    display(Image(chain.get_graph(xray=True).draw_mermaid_png()))\n",
        "except:\n",
        "    pass"
      ]
    },
    {
      "cell_type": "markdown",
      "metadata": {
        "id": "bfRvA2QfCqFL"
      },
      "source": [
        "The next part is key - since we need to \"wrap\" our LangGraph in order for it to be compatible in the following steps - let's create an LCEL chain out of it!\n",
        "\n",
        "This allows us to \"broadcast\" messages down to our Research Team LangGraph!"
      ]
    },
    {
      "cell_type": "code",
      "execution_count": 30,
      "metadata": {
        "id": "1G7hmEINCx3i"
      },
      "outputs": [],
      "source": [
        "def enter_chain(message: str):\n",
        "    results = {\n",
        "        \"messages\": [HumanMessage(content=message)],\n",
        "    }\n",
        "    return results\n",
        "\n",
        "research_chain = enter_chain | chain"
      ]
    },
    {
      "cell_type": "markdown",
      "metadata": {
        "id": "EGdoCdXWC7Pi"
      },
      "source": [
        "Now, finally, we can take it for a spin!"
      ]
    },
    {
      "cell_type": "code",
      "execution_count": 32,
      "metadata": {
        "colab": {
          "base_uri": "https://localhost:8080/"
        },
        "id": "xIDpFIg2sRUl",
        "outputId": "bb3803d4-5b32-4b0a-c8a1-1a1917425812"
      },
      "outputs": [
        {
          "name": "stdout",
          "output_type": "stream",
          "text": [
            "{'supervisor': {'next': 'Search'}}\n",
            "---\n",
            "{'Search': {'messages': [HumanMessage(content='The main takeaways from the paper \"Extending Llama-3\\'s Context Ten-Fold Overnight\" are as follows:\\n\\n1. **Context Length Extension:** The paper demonstrates a significant extension of the context length of the Llama-3-8B-Instruct model from 8,000 tokens to 80,000 tokens. This was achieved through a method called QLoRA fine-tuning.\\n\\n2. **Efficiency of Training:** The training cycle to achieve this extension was remarkably efficient, taking only 8 hours on a single machine equipped with 8xA800 (80G) GPUs.\\n\\n3. **Use of Synthetic Data:** A key aspect of this extension was the use of 3.5K synthetic training samples generated by GPT-4. This indicates that large language models (LLMs) have a significant, yet largely underestimated, potential to extend their original context lengths.\\n\\n4. **Potential for Further Extension:** The paper suggests that the context length could be further extended beyond 80,000 tokens if more computing resources were available.\\n\\n5. **Performance Improvements:** The extended context model exhibits superior performance across a broad range of evaluation tasks, including natural language inference (NIHS), topic retrieval, and long-context language understanding.\\n\\nThese findings underscore the inherent capabilities of LLMs to handle much longer contexts than previously utilized, opening up new possibilities for applications requiring deep contextual understanding.', name='Search')]}}\n",
            "---\n",
            "{'supervisor': {'next': 'FINISH'}}\n",
            "---\n"
          ]
        }
      ],
      "source": [
        "for s in research_chain.stream(\n",
        "    \"What are the main takeaways from the paper `Extending Llama-3's Context Ten-Fold Overnight'? Please use Search and PaperInformationRetriever!\", {\"recursion_limit\": 100}\n",
        "):\n",
        "    if \"__end__\" not in s:\n",
        "        print(s)\n",
        "        print(\"---\")"
      ]
    },
    {
      "cell_type": "markdown",
      "metadata": {
        "id": "DHAgsbwIIhwj"
      },
      "source": [
        "##### 🏗️ Activity #2:\n",
        "\n",
        "Using whatever drawing application you wish - please label the flow above on a diagram of your graph."
      ]
    },
    {
      "cell_type": "markdown",
      "metadata": {
        "id": "rTA9SqOO8NO1"
      },
      "source": [
        "![session6 image.jpeg](data:image/jpeg;base64,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)"
      ]
    },
    {
      "cell_type": "markdown",
      "metadata": {
        "id": "eH70eHGlJbq4"
      },
      "source": [
        "##### ❓ Question #2:\n",
        "\n",
        "How could you make sure your Agent uses specific tools that you wish it to use? Are there any ways to concretely set a flow through tools?"
      ]
    },
    {
      "cell_type": "markdown",
      "metadata": {
        "id": "_r8FSdQssPQ9"
      },
      "source": [
        "✅ **Answer #2:**\n",
        "Yes, we can orchestrate the graph in specific structured approach using edges.\n",
        "\n",
        "Connect the nodes/tools with edges in the desired sequence to form a directed graph, ensuring the agent follows the specified flow.\n",
        "\n",
        "i.e. Having directed tool order to ensure Tool 1 is used before Tool 2 by the Agent."
      ]
    },
    {
      "cell_type": "markdown",
      "metadata": {
        "id": "iktcBorGXmAW"
      },
      "source": [
        "# 🤝 BREAKOUT ROOM #2"
      ]
    },
    {
      "cell_type": "markdown",
      "metadata": {
        "id": "ejsHCZZ2EmwM"
      },
      "source": [
        "## Task 4: Document Writing Team - A LangGraph for Writing, Editing, and Planning a LinkedIn post.\n",
        "\n",
        "Let's run it all back, this time specifically creating tools, agent nodes, and a graph for planning, writing, and editing a LinkedIn post!"
      ]
    },
    {
      "cell_type": "markdown",
      "metadata": {
        "id": "4awQtZ-oFUN-"
      },
      "source": [
        "### Tool Creation\n",
        "\n",
        "Let's create some tools that will help us understand, open, work with, and edit documents to our liking!"
      ]
    },
    {
      "cell_type": "code",
      "execution_count": null,
      "metadata": {},
      "outputs": [],
      "source": [
        "from pathlib import Path\n",
        "from tempfile import TemporaryDirectory\n",
        "from typing import Dict, Optional\n",
        "from typing_extensions import TypedDict\n",
        "import uuid\n",
        "import os\n",
        "\n",
        "os.makedirs('/content/data', exist_ok=True)\n",
        "\n",
        "def create_random_subdirectory():\n",
        "    random_id = str(uuid.uuid4())[:8]  # Use first 8 characters of a UUID\n",
        "    subdirectory_path = os.path.join('/content/data', random_id)\n",
        "    os.makedirs(subdirectory_path, exist_ok=True)\n",
        "    return subdirectory_path\n",
        "\n",
        "WORKING_DIRECTORY = Path(create_random_subdirectory())\n",
        "\n",
        "@tool\n",
        "def create_outline(\n",
        "    points: Annotated[List[str], \"List of main points or sections.\"],\n",
        "    file_name: Annotated[str, \"File path to save the outline.\"],\n",
        ") -> Annotated[str, \"Path of the saved outline file.\"]:\n",
        "    \"\"\"Create and save an outline.\"\"\"\n",
        "    with (WORKING_DIRECTORY / file_name).open(\"w\") as file:\n",
        "        for i, point in enumerate(points):\n",
        "            file.write(f\"{i + 1}. {point}\\n\")\n",
        "    return f\"Outline saved to {file_name}\"\n",
        "\n",
        "\n",
        "@tool\n",
        "def read_document(\n",
        "    file_name: Annotated[str, \"File path to save the document.\"],\n",
        "    start: Annotated[Optional[int], \"The start line. Default is 0\"] = None,\n",
        "    end: Annotated[Optional[int], \"The end line. Default is None\"] = None,\n",
        ") -> str:\n",
        "    \"\"\"Read the specified document.\"\"\"\n",
        "    with (WORKING_DIRECTORY / file_name).open(\"r\") as file:\n",
        "        lines = file.readlines()\n",
        "    if start is not None:\n",
        "        start = 0\n",
        "    return \"\\n\".join(lines[start:end])\n",
        "\n",
        "\n",
        "@tool\n",
        "def write_document(\n",
        "    content: Annotated[str, \"Text content to be written into the document.\"],\n",
        "    file_name: Annotated[str, \"File path to save the document.\"],\n",
        ") -> Annotated[str, \"Path of the saved document file.\"]:\n",
        "    \"\"\"Create and save a text document.\"\"\"\n",
        "    with (WORKING_DIRECTORY / file_name).open(\"w\") as file:\n",
        "        file.write(content)\n",
        "    return f\"Document saved to {file_name}\"\n",
        "\n",
        "\n",
        "@tool\n",
        "def edit_document(\n",
        "    file_name: Annotated[str, \"Path of the document to be edited.\"],\n",
        "    inserts: Annotated[\n",
        "        Dict[int, str],\n",
        "        \"Dictionary where key is the line number (1-indexed) and value is the text to be inserted at that line.\",\n",
        "    ] = {},\n",
        ") -> Annotated[str, \"Path of the edited document file.\"]:\n",
        "    \"\"\"Edit a document by inserting text at specific line numbers.\"\"\"\n",
        "\n",
        "    with (WORKING_DIRECTORY / file_name).open(\"r\") as file:\n",
        "        lines = file.readlines()\n",
        "\n",
        "    sorted_inserts = sorted(inserts.items())\n",
        "\n",
        "    for line_number, text in sorted_inserts:\n",
        "        if 1 <= line_number <= len(lines) + 1:\n",
        "            lines.insert(line_number - 1, text + \"\\n\")\n",
        "        else:\n",
        "            return f\"Error: Line number {line_number} is out of range.\"\n",
        "\n",
        "    with (WORKING_DIRECTORY / file_name).open(\"w\") as file:\n",
        "        file.writelines(lines)\n",
        "\n",
        "    return f\"Document edited and saved to {file_name}\""
      ]
    },
    {
      "cell_type": "markdown",
      "metadata": {
        "id": "n8yH1IAYK7nL"
      },
      "source": [
        "##### 🏗️ Activity #3:\n",
        "\n",
        "Describe, briefly, what each of these tools is doing in your own words."
      ]
    },
    {
      "cell_type": "markdown",
      "metadata": {
        "id": "fXycrqw98HCj"
      },
      "source": [
        " 🏗️\n",
        "\n",
        "\n",
        "create_random_subdirectory:\n",
        "\n",
        "It makes subdirectory on the Colab with path \"/content/data/{first 8 characters of randomly generated UUID}\"\n",
        "\n",
        "create_outline:\n",
        "\n",
        "Will open the outline file in the subdirectory created using create_random_subdirectory (will create the file if not exist) and write\n",
        "list of main points or sections\n",
        "\n",
        "read_document:\n",
        "\n",
        "Reads the document file passed as argument to file_name parameter\n",
        "\n",
        "write_document:\n",
        "\n",
        "Write the string text provided in content parameter to the document file passed as argument to file_name parameter\n",
        "\n",
        "edit_document:\n",
        "\n",
        "Document file is edited by having lines of text inserted in specific line order\n"
      ]
    },
    {
      "cell_type": "markdown",
      "metadata": {
        "id": "__Jw_XBIFwwa"
      },
      "source": [
        "### Document Writing State\n",
        "\n",
        "Just like with our Research Team state - we want to keep track of a few things, however this time - we also want to keep track of which files we've created - so let's add that here!"
      ]
    },
    {
      "cell_type": "code",
      "execution_count": null,
      "metadata": {
        "id": "DoU2YwJRu7wD"
      },
      "outputs": [],
      "source": [
        "import operator\n",
        "from pathlib import Path\n",
        "\n",
        "class DocWritingState(TypedDict):\n",
        "    messages: Annotated[List[BaseMessage], operator.add]\n",
        "    team_members: str\n",
        "    next: str\n",
        "    current_files: str"
      ]
    },
    {
      "cell_type": "markdown",
      "metadata": {
        "id": "4p1kQShmGHCh"
      },
      "source": [
        "### Document Writing Prelude Function\n",
        "\n",
        "Since we have a working directory - we want to be clear about what our current working directory looks like - this helper function will allow us to do that cleanly!"
      ]
    },
    {
      "cell_type": "code",
      "execution_count": null,
      "metadata": {
        "id": "G79mUggQGLVq"
      },
      "outputs": [],
      "source": [
        "def prelude(state):\n",
        "    written_files = []\n",
        "    if not WORKING_DIRECTORY.exists():\n",
        "        WORKING_DIRECTORY.mkdir()\n",
        "    try:\n",
        "        written_files = [\n",
        "            f.relative_to(WORKING_DIRECTORY) for f in WORKING_DIRECTORY.rglob(\"*\")\n",
        "        ]\n",
        "    except:\n",
        "        pass\n",
        "    if not written_files:\n",
        "        return {**state, \"current_files\": \"No files written.\"}\n",
        "    return {\n",
        "        **state,\n",
        "        \"current_files\": \"\\nBelow are files your team has written to the directory:\\n\"\n",
        "        + \"\\n\".join([f\" - {f}\" for f in written_files]),\n",
        "    }"
      ]
    },
    {
      "cell_type": "markdown",
      "metadata": {
        "id": "wbSre9agT9Gb"
      },
      "source": [
        "### Document Writing Node Creation\n",
        "\n"
      ]
    },
    {
      "cell_type": "code",
      "execution_count": null,
      "metadata": {
        "id": "v7oso327T_wa"
      },
      "outputs": [],
      "source": [
        "doc_writer_agent = create_agent(\n",
        "    llm,\n",
        "    [write_document, edit_document, read_document],\n",
        "    (\"You are an expert writing technical LinkedIn posts.\\n\"\n",
        "    \"Below are files currently in your directory:\\n{current_files}\"),\n",
        ")\n",
        "context_aware_doc_writer_agent = prelude | doc_writer_agent\n",
        "doc_writing_node = functools.partial(\n",
        "    agent_node, agent=context_aware_doc_writer_agent, name=\"DocWriter\"\n",
        ")\n",
        "\n",
        "note_taking_agent = create_agent(\n",
        "    llm,\n",
        "    [create_outline, read_document],\n",
        "    (\"You are an expert senior researcher tasked with writing a LinkedIn post outline and\"\n",
        "    \" taking notes to craft a LinkedIn post.\\n{current_files}\"),\n",
        ")\n",
        "context_aware_note_taking_agent = prelude | note_taking_agent\n",
        "note_taking_node = functools.partial(\n",
        "    agent_node, agent=context_aware_note_taking_agent, name=\"NoteTaker\"\n",
        ")\n",
        "\n",
        "copy_editor_agent = create_agent(\n",
        "    llm,\n",
        "    [write_document, edit_document, read_document],\n",
        "    (\"You are an expert copy editor who focuses on fixing grammar, spelling, and tone issues\\n\"\n",
        "    \"Below are files currently in your directory:\\n{current_files}\"),\n",
        ")\n",
        "context_aware_copy_editor_agent = prelude | copy_editor_agent\n",
        "copy_editing_node = functools.partial(\n",
        "    agent_node, agent=context_aware_copy_editor_agent, name=\"CopyEditor\"\n",
        ")\n",
        "\n",
        "dopeness_editor_agent = create_agent(\n",
        "    llm,\n",
        "    [write_document, edit_document, read_document],\n",
        "    (\"You are an expert in dopeness, litness, coolness, etc - you edit the document to make sure it's dope. Make sure to use a number of emojis.\"\n",
        "    \"Below are files currently in your directory:\\n{current_files}\"),\n",
        ")\n",
        "context_aware_dopeness_editor_agent = prelude | dopeness_editor_agent\n",
        "dopeness_node = functools.partial(\n",
        "    agent_node, agent=context_aware_dopeness_editor_agent, name=\"DopenessEditor\"\n",
        ")\n",
        "\n",
        "doc_writing_supervisor = create_team_supervisor(\n",
        "    llm,\n",
        "    (\"You are a supervisor tasked with managing a conversation between the\"\n",
        "    \" following workers: {team_members}. You should always verify the technical\"\n",
        "    \" contents after any edits are made. \"\n",
        "    \"Given the following user request,\"\n",
        "    \" respond with the worker to act next. Each worker will perform a\"\n",
        "    \" task and respond with their results and status. When each team is finished,\"\n",
        "    \" you must respond with FINISH.\"),\n",
        "    [\"DocWriter\", \"NoteTaker\", \"DopenessEditor\", \"CopyEditor\"],\n",
        ")"
      ]
    },
    {
      "cell_type": "markdown",
      "metadata": {
        "id": "AUiNMpJBGXN0"
      },
      "source": [
        "### Document Writing Team LangGraph Construction\n",
        "\n",
        "This part is almost exactly the same (with a few extra nodes) as our Research Team LangGraph construction - so we'll leave it as one block!"
      ]
    },
    {
      "cell_type": "code",
      "execution_count": null,
      "metadata": {
        "id": "Q6n8A1ytxVTv"
      },
      "outputs": [],
      "source": [
        "authoring_graph = StateGraph(DocWritingState)\n",
        "authoring_graph.add_node(\"DocWriter\", doc_writing_node)\n",
        "authoring_graph.add_node(\"NoteTaker\", note_taking_node)\n",
        "authoring_graph.add_node(\"CopyEditor\", copy_editing_node)\n",
        "authoring_graph.add_node(\"DopenessEditor\", dopeness_node)\n",
        "authoring_graph.add_node(\"supervisor\", doc_writing_supervisor)\n",
        "\n",
        "authoring_graph.add_edge(\"DocWriter\", \"supervisor\")\n",
        "authoring_graph.add_edge(\"NoteTaker\", \"supervisor\")\n",
        "authoring_graph.add_edge(\"CopyEditor\", \"supervisor\")\n",
        "authoring_graph.add_edge(\"DopenessEditor\", \"supervisor\")\n",
        "\n",
        "authoring_graph.add_conditional_edges(\n",
        "    \"supervisor\",\n",
        "    lambda x: x[\"next\"],\n",
        "    {\n",
        "        \"DocWriter\": \"DocWriter\",\n",
        "        \"NoteTaker\": \"NoteTaker\",\n",
        "        \"CopyEditor\" : \"CopyEditor\",\n",
        "        \"DopenessEditor\" : \"DopenessEditor\",\n",
        "        \"FINISH\": END,\n",
        "    },\n",
        ")\n",
        "\n",
        "authoring_graph.set_entry_point(\"supervisor\")\n",
        "chain = authoring_graph.compile()"
      ]
    },
    {
      "cell_type": "markdown",
      "metadata": {
        "id": "Zx-EKGkHKUBO"
      },
      "source": [
        "#### Display Graph"
      ]
    },
    {
      "cell_type": "code",
      "execution_count": null,
      "metadata": {
        "colab": {
          "base_uri": "https://localhost:8080/",
          "height": 488
        },
        "id": "AZdOb3GZKSM7",
        "outputId": "6b64588d-5568-4234-d062-4dc83ea9abec"
      },
      "outputs": [
        {
          "data": {
            "image/jpeg": "[encoded data removed]",
            "text/plain": [
              "<IPython.core.display.Image object>"
            ]
          },
          "metadata": {},
          "output_type": "display_data"
        }
      ],
      "source": [
        "from IPython.display import Image, display\n",
        "\n",
        "try:\n",
        "    display(Image(chain.get_graph(xray=True).draw_mermaid_png()))\n",
        "except:\n",
        "    pass"
      ]
    },
    {
      "cell_type": "markdown",
      "metadata": {
        "id": "yB_rOw1hGpwd"
      },
      "source": [
        "Just as before - we'll need to create an \"interface\" between the level above, and our graph."
      ]
    },
    {
      "cell_type": "code",
      "execution_count": null,
      "metadata": {
        "id": "G-RbbCKoG_nt"
      },
      "outputs": [],
      "source": [
        "def enter_chain(message: str, members: List[str]):\n",
        "    results = {\n",
        "        \"messages\": [HumanMessage(content=message)],\n",
        "        \"team_members\": \", \".join(members),\n",
        "    }\n",
        "    return results\n",
        "\n",
        "authoring_chain = (\n",
        "    functools.partial(enter_chain, members=authoring_graph.nodes)\n",
        "    | authoring_graph.compile()\n",
        ")"
      ]
    },
    {
      "cell_type": "markdown",
      "metadata": {
        "id": "GgyhpTrRNgQd"
      },
      "source": [
        "Now we can test this out!\n",
        "\n",
        "> NOTE: It is possible you may see an error here - rerun the cell to clear."
      ]
    },
    {
      "cell_type": "code",
      "execution_count": null,
      "metadata": {
        "colab": {
          "base_uri": "https://localhost:8080/"
        },
        "id": "IWUxv4XDx3kg",
        "outputId": "62ee7d3d-31ba-4348-b852-7fd96f6875ff"
      },
      "outputs": [
        {
          "name": "stdout",
          "output_type": "stream",
          "text": [
            "{'supervisor': {'next': 'DocWriter'}}\n",
            "---\n",
            "{'DocWriter': {'messages': [HumanMessage(content=\"The outline for the LinkedIn post on Linear Regression has been successfully created and saved to disk. Here's the structure of the post:\\n\\n1. **Introduction to Linear Regression**\\n   - Brief explanation of what linear regression is and its importance in data analysis.\\n\\n2. **Key Concepts**\\n   - Explanation of dependent and independent variables.\\n   - Discussion on the relationship between variables and how linear regression quantifies this.\\n\\n3. **Applications of Linear Regression**\\n   - Examples of real-world applications in various industries such as finance, healthcare, and more.\\n\\n4. **Conclusion**\\n   - Summary of the benefits of using linear regression and its impact on decision-making processes in businesses.\\n\\nThis outline serves as a blueprint for crafting a comprehensive and informative LinkedIn post on Linear Regression.\", name='DocWriter')]}}\n",
            "---\n",
            "{'supervisor': {'next': 'FINISH'}}\n",
            "---\n"
          ]
        }
      ],
      "source": [
        "for s in authoring_chain.stream(\n",
        "    \"Write an outline for for a short LinkedIn post on Linear Regression and write it to disk.\",\n",
        "    {\"recursion_limit\": 100},\n",
        "):\n",
        "    if \"__end__\" not in s:\n",
        "        print(s)\n",
        "        print(\"---\")"
      ]
    },
    {
      "cell_type": "markdown",
      "metadata": {
        "id": "zpW2R9SUHGUq"
      },
      "source": [
        "## Task 5: Meta-Supervisor and Full Graph\n",
        "\n",
        "Finally, now that we have our two LangGraph agents (some of which are already multi-agent), we can build a supervisor that sits above all of them!\n",
        "\n",
        "The final process, surprisingly, is quite straight forward!\n",
        "\n",
        "Let's jump in!\n",
        "\n",
        "First off - we'll need to create our supervisor agent node."
      ]
    },
    {
      "cell_type": "code",
      "execution_count": null,
      "metadata": {
        "id": "wkpxeUf9ygKp"
      },
      "outputs": [],
      "source": [
        "from langchain_core.messages import AIMessage, BaseMessage, HumanMessage\n",
        "from langchain_openai.chat_models import ChatOpenAI\n",
        "\n",
        "\n",
        "llm = ChatOpenAI(model=\"gpt-4\")\n",
        "\n",
        "supervisor_node = create_team_supervisor(\n",
        "    llm,\n",
        "    \"You are a supervisor tasked with managing a conversation between the\"\n",
        "    \" following teams: {team_members}. Given the following user request,\"\n",
        "    \" respond with the worker to act next. Each worker will perform a\"\n",
        "    \" task and respond with their results and status. When all workers are finished,\"\n",
        "    \" you must respond with FINISH.\",\n",
        "    [\"Research team\", \"LinkedIn team\"],\n",
        ")"
      ]
    },
    {
      "cell_type": "markdown",
      "metadata": {
        "id": "hUvOh_xWIKig"
      },
      "source": [
        "We'll also create our new state - as well as some methods to help us navigate the new state and the subgraphs.\n",
        "\n",
        "> NOTE: We only pass the most recent message from the parent graph to the subgraph, and we only extract the most recent message from the subgraph to include in the state of the parent graph."
      ]
    },
    {
      "cell_type": "code",
      "execution_count": null,
      "metadata": {
        "id": "O7HJ8MF0yh_i"
      },
      "outputs": [],
      "source": [
        "class State(TypedDict):\n",
        "    messages: Annotated[List[BaseMessage], operator.add]\n",
        "    next: str\n",
        "\n",
        "def get_last_message(state: State) -> str:\n",
        "    return state[\"messages\"][-1].content\n",
        "\n",
        "def join_graph(response: dict):\n",
        "    return {\"messages\": [response[\"messages\"][-1]]}"
      ]
    },
    {
      "cell_type": "markdown",
      "metadata": {
        "id": "B5RHao1sIanG"
      },
      "source": [
        "Next, we'll create our base graph.\n",
        "\n",
        "Notice how each node we're adding is *AN ENTIRE LANGGRAPH AGENT* (wrapped into an LCEL chain with our helper functions above)."
      ]
    },
    {
      "cell_type": "code",
      "execution_count": null,
      "metadata": {
        "id": "PfCWABCMIaFy"
      },
      "outputs": [],
      "source": [
        "super_graph = StateGraph(State)\n",
        "\n",
        "super_graph.add_node(\"Research team\", get_last_message | research_chain | join_graph)\n",
        "super_graph.add_node(\n",
        "    \"LinkedIn team\", get_last_message | authoring_chain | join_graph\n",
        ")\n",
        "super_graph.add_node(\"supervisor\", supervisor_node)"
      ]
    },
    {
      "cell_type": "markdown",
      "metadata": {
        "id": "dpwpUXMtI62E"
      },
      "source": [
        "Next, we'll create our edges!\n",
        "\n",
        "This process is completely idenctical to what we've seen before - just addressing the LangGraph subgraph nodes instead of individual nodes."
      ]
    },
    {
      "cell_type": "code",
      "execution_count": null,
      "metadata": {
        "id": "tLtjRuUYI-fx"
      },
      "outputs": [],
      "source": [
        "super_graph.add_edge(\"Research team\", \"supervisor\")\n",
        "super_graph.add_edge(\"LinkedIn team\", \"supervisor\")\n",
        "super_graph.add_conditional_edges(\n",
        "    \"supervisor\",\n",
        "    lambda x: x[\"next\"],\n",
        "    {\n",
        "        \"LinkedIn team\": \"LinkedIn team\",\n",
        "        \"Research team\": \"Research team\",\n",
        "        \"FINISH\": END,\n",
        "    },\n",
        ")\n",
        "super_graph.set_entry_point(\"supervisor\")\n",
        "super_graph = super_graph.compile()"
      ]
    },
    {
      "cell_type": "markdown",
      "metadata": {
        "id": "K1KMfFqgJKw8"
      },
      "source": [
        "That's it!\n",
        "\n",
        "Now we can finally use our full agent!"
      ]
    },
    {
      "cell_type": "code",
      "execution_count": null,
      "metadata": {
        "colab": {
          "base_uri": "https://localhost:8080/"
        },
        "id": "3M6wUDR-yk8s",
        "outputId": "056fe89e-5a81-4852-f0cb-35367da8cef0"
      },
      "outputs": [
        {
          "name": "stdout",
          "output_type": "stream",
          "text": [
            "{'supervisor': {'next': 'Research team'}}\n",
            "---\n",
            "{'Research team': {'messages': [HumanMessage(content='🚀 Exciting News in AI Research! 🚀\\n\\nWe\\'re thrilled to share a groundbreaking achievement in the field of large language models (LLMs)! A recent study titled \"Extending Llama-3’s Context Ten-Fold Overnight\" has successfully expanded the context length of Llama-3 from 8K to a staggering 80K tokens using QLoRA fine-tuning. This enhancement was accomplished in just 8 hours on a single 8xA800 (80G) GPU machine, demonstrating both efficiency and effectiveness in model training.\\n\\n🔍 This remarkable advancement not only improves Llama-3’s performance across various benchmarks such as NIHS, topic retrieval, and long-context language understanding but also preserves the model\\'s ability to generalize beyond its training contexts, handling up to 128K tokens. This makes it a formidable tool in processing extensive textual information, pushing the boundaries of what AI can achieve.\\n\\n📊 Evaluated on LongBench and InfiniteBench, the model consistently outperformed baselines, setting a new standard in the field. While it faced challenges in code completion tasks, the overall results are overwhelmingly positive.\\n\\n🌐 The full resources, including the model, training data, and code, are now publicly available, providing an invaluable asset for further research in training long-context LLMs.\\n\\n🔗 For more details, check out the full paper [here](https://www.emergentmind.com/papers/2404.19553).\\n\\nLet\\'s continue pushing the limits of what AI can do! #AILLMs #MachineLearning #AIResearch #LanguageModels #Innovation\\n\\n---\\n\\nI hope this draft meets your expectations. If you have any adjustments or additional information you\\'d like to include, feel free to let me know!', name='Search')]}}\n",
            "---\n",
            "{'supervisor': {'next': 'LinkedIn team'}}\n",
            "---\n",
            "{'LinkedIn team': {'messages': [HumanMessage(content='The revised LinkedIn post has been successfully updated and saved as \"AI_Research_Update_LinkedIn_Post.txt\". The modifications enhance readability and adhere to professional writing standards. If there are any more adjustments or additional content needed, feel free to let me know!', name='CopyEditor')]}}\n",
            "---\n",
            "{'supervisor': {'next': 'FINISH'}}\n",
            "---\n"
          ]
        }
      ],
      "source": [
        "WORKING_DIRECTORY = Path(create_random_subdirectory())\n",
        "\n",
        "for s in super_graph.stream(\n",
        "    {\n",
        "        \"messages\": [\n",
        "            HumanMessage(\n",
        "                content=\"Write a LinkedIn post on the paper 'Extending Llama-3’s Context Ten-Fold Overnight'. First consult the research team. Then make sure you consult the LinkedIn team, and check for copy editing and dopeness, and write the file to disk.\"\n",
        "            )\n",
        "        ],\n",
        "    },\n",
        "    {\"recursion_limit\": 30},\n",
        "):\n",
        "    if \"__end__\" not in s:\n",
        "        print(s)\n",
        "        print(\"---\")"
      ]
    },
    {
      "cell_type": "markdown",
      "metadata": {
        "id": "PuZAvSlJJpPP"
      },
      "source": [
        "## SAMPLE POST!"
      ]
    },
    {
      "cell_type": "markdown",
      "metadata": {
        "id": "lOEMCrXTJaxW"
      },
      "source": [
        "🚀 Exciting News in AI Research! 🚀\n",
        "\n",
        "We're thrilled to share a groundbreaking achievement in the field of large language models (LLMs)! A recent study titled \"Extending Llama-3’s Context Ten-Fold Overnight\" has successfully expanded the context length of Llama-3 from 8K to a staggering 80K tokens using QLoRA fine-tuning. This enhancement was accomplished in just eight hours on a single 8xA800 (80G) GPU machine, demonstrating both efficiency and effectiveness in model training.\n",
        "\n",
        "🔍 This remarkable advancement not only improves Llama-3’s performance across various benchmarks such as NIHS, topic retrieval, and long-context language understanding, but also preserves the model's ability to generalize beyond its training contexts, handling up to 128K tokens. This capability makes it a formidable tool in processing extensive textual information, pushing the boundaries of what AI can achieve.\n",
        "\n",
        "📊 Evaluated on LongBench and InfiniteBench, the model consistently outperformed baselines, setting a new standard in the field. Although it faced challenges in code completion tasks, the overall results are overwhelmingly positive.\n",
        "\n",
        "🌐 The full resources, including the model, training data, and code, are now publicly available, providing an invaluable asset for further research in training long-context LLMs.\n",
        "\n",
        "🔗 For more details, check out the full paper [here](https://www.emergentmind.com/papers/2404.19553).\n",
        "\n",
        "Let's continue pushing the limits of what AI can do! #AILLMs #MachineLearning #AIResearch #LanguageModels #Innovation\n"
      ]
    }
  ],
  "metadata": {
    "colab": {
      "provenance": []
    },
    "kernelspec": {
      "display_name": "llmops-course",
      "language": "python",
      "name": "python3"
    },
    "language_info": {
      "codemirror_mode": {
        "name": "ipython",
        "version": 3
      },
      "file_extension": ".py",
      "mimetype": "text/x-python",
      "name": "python",
      "nbconvert_exporter": "python",
      "pygments_lexer": "ipython3",
      "version": "3.11.11"
    }
  },
  "nbformat": 4,
  "nbformat_minor": 0
}
